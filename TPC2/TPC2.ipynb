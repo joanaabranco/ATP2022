{
 "cells": [
  {
   "cell_type": "markdown",
   "metadata": {},
   "source": [
    "### TPC2: Adivinha o número\n",
    "- Crie um programa em Python para jogar o jogo \"Adivinha o número\":\n",
    "    - O jogo pode ter 2 modalidades: computador pensa num número (entre 0 e 100), utilizador tenta adivinhar; ou, o utilizador pensa num número (entre 0 e 100) e o computador tenta adivinhar;\n",
    "    - Quem tenta adivinhar responde com uma das afirmações: \"Acertou\", \"O número que pensei é Maior\" ou \"O número que pensei é Menor\";\n",
    "    - Uma vez descoberto o número o programa deverá terminar imprimindo o número de tentativas que quem adivinhou usou para chegar ao resultado."
   ]
  },
  {
   "cell_type": "code",
   "execution_count": 11,
   "metadata": {},
   "outputs": [
    {
     "name": "stdout",
     "output_type": "stream",
     "text": [
      " ____ Bem Vindo! ____ \n",
      " Pensei num número entre 0 e 100. Tenta adivinhar! \n",
      " Ups, tenta novamente.  50 não é o número. O número que pensei é maior. \n",
      " Ups, tenta novamente.  75 não é o número. O número que pensei é menor. \n",
      " Ups, tenta novamente.  60 não é o número. O número que pensei é menor. \n",
      " Parabéns, acertaste!  55  é o número! Ao fim de 4 tentativas.\n",
      " ____ Fim do Jogo ___ \n"
     ]
    }
   ],
   "source": [
    "import random \n",
    "\n",
    "#Modalidade 1.\n",
    "\n",
    "numero = random.randrange(0,101);\n",
    "adivinhar = 0;\n",
    "tentativas = 0;\n",
    "\n",
    "print(\" ____ Bem Vindo! ____ \")\n",
    "print(\" Pensei num número entre 0 e 100. Tenta adivinhar! \")\n",
    "\n",
    "while numero != adivinhar:\n",
    "    adivinhar = int(input(\"Digita um número, de 0 a 100: \"))\n",
    "    tentativas = tentativas + 1\n",
    "    if (numero == adivinhar):\n",
    "      print(\" Parabéns, acertaste! \", adivinhar, \"é o número! Ao fim de\" , tentativas, \"tentativas.\")\n",
    "    else:\n",
    "        if adivinhar > numero:\n",
    "                print(\" Ups, tenta novamente. \", adivinhar, \"não é o número. O número que pensei é menor. \")\n",
    "        else:\n",
    "                print(\" Ups, tenta novamente. \", adivinhar, \"não é o número. O número que pensei é maior. \")\n",
    "      \n",
    "print(\" ____ Fim do Jogo ___ \")\n"
   ]
  },
  {
   "cell_type": "code",
   "execution_count": null,
   "metadata": {},
   "outputs": [],
   "source": [
    "import random \n",
    "\n",
    "#Modalidade 2.\n",
    "\n",
    "tentativas = 0;\n",
    "\n",
    "print(\" ____ Bem Vindo! ____ \")\n",
    "print(\" Computador, adivinha o número que pensei! Está entre 0 e 100. \")\n",
    "\n",
    "adivinhar = int(input(\"Introduz o número que queres que o computador pense: \" ));\n",
    "while adivinhar != numero:\n",
    "    numero = random.randrange(0,101);\n",
    "    if \n",
    "\n",
    "\n",
    "\n"
   ]
  }
 ],
 "metadata": {
  "kernelspec": {
   "display_name": "Python 3.10.7 64-bit",
   "language": "python",
   "name": "python3"
  },
  "language_info": {
   "codemirror_mode": {
    "name": "ipython",
    "version": 3
   },
   "file_extension": ".py",
   "mimetype": "text/x-python",
   "name": "python",
   "nbconvert_exporter": "python",
   "pygments_lexer": "ipython3",
   "version": "3.10.7"
  },
  "orig_nbformat": 4,
  "vscode": {
   "interpreter": {
    "hash": "afb734500600fd355917ca529030176ea0ca205570884b88f2f6f7d791fd3fbe"
   }
  }
 },
 "nbformat": 4,
 "nbformat_minor": 2
}
