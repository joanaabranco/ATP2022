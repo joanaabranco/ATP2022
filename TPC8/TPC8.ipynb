{
 "cells": [
  {
   "cell_type": "markdown",
   "metadata": {},
   "source": [
    "### TPC8: Teste de aferição\n",
    "\n",
    "Resolva os problemas apresentados a seguir."
   ]
  },
  {
   "cell_type": "markdown",
   "metadata": {},
   "source": [
    "### tpc1.a) Recebe duas strings, _s1_ e _s2_, e retorna o comprimento da substring inicial de _s1_ que não contem nenhum caráter de _s2_:"
   ]
  },
  {
   "cell_type": "code",
   "execution_count": 60,
   "metadata": {},
   "outputs": [
    {
     "data": {
      "text/plain": [
       "0"
      ]
     },
     "execution_count": 60,
     "metadata": {},
     "output_type": "execute_result"
    }
   ],
   "source": [
    "def inicDiferente(s1, s2):\n",
    "    res = 0\n",
    "    # ...\n",
    "    return res\n",
    "\n",
    "inicDiferente(\"Está um bom dia...\", \"Hoje é um dia alegre.\")\n",
    "# resultado esperado: 4"
   ]
  },
  {
   "cell_type": "markdown",
   "metadata": {},
   "source": [
    "### tpc1.b) Recebe um parâmetro _n_ e lê _n_ números inteiros; no fim retorna quantos dos números lidos são superiores à média dos números lidos:"
   ]
  },
  {
   "cell_type": "code",
   "execution_count": 61,
   "metadata": {},
   "outputs": [
    {
     "data": {
      "text/plain": [
       "2"
      ]
     },
     "execution_count": 61,
     "metadata": {},
     "output_type": "execute_result"
    }
   ],
   "source": [
    "def acimaMedia(n):\n",
    "    listaNum = []\n",
    "    adicionar = n\n",
    "    soma = 0\n",
    "    res = 0\n",
    "    while adicionar > 0:\n",
    "        num = int(input(\" Introduza o número: \"))\n",
    "        listaNum.append(num)\n",
    "        adicionar = adicionar - 1\n",
    "        soma = soma + num\n",
    "\n",
    "    media = soma/n\n",
    "\n",
    "    for n in listaNum:\n",
    "        if n > media:\n",
    "            res = res + 1\n",
    "    return res\n",
    "\n",
    "acimaMedia(5)"
   ]
  },
  {
   "cell_type": "markdown",
   "metadata": {},
   "source": [
    "### tpc1.c) Faz o merge de duas listas ordenadas, retornando uma lista ordenada com os elementos das duas listas (__não podes usar nenhuma função de ordenação do Python__):"
   ]
  },
  {
   "cell_type": "code",
   "execution_count": 71,
   "metadata": {},
   "outputs": [
    {
     "data": {
      "text/plain": [
       "[1, 1, 1, 1, 1, 1, 1, 1]"
      ]
     },
     "execution_count": 71,
     "metadata": {},
     "output_type": "execute_result"
    }
   ],
   "source": [
    "def merge(l1, l2):\n",
    "        listaT = l1 + l2\n",
    "        listaTOrdenada = []\n",
    "        menorElem = listaT[0]\n",
    "        while len(listaTOrdenada) < len(listaT):\n",
    "            for elem in listaT[1:]:\n",
    "                if elem < menorElem:\n",
    "                    menorElem = elem\n",
    "            listaTOrdenada.append(menorElem)\n",
    "        \n",
    "        return listaTOrdenada\n",
    "    \n",
    "merge([1,2,6,9], [3,4,7,12])\n",
    "# Resultado esperado: [1,2,3,4,6,7,9,12]"
   ]
  },
  {
   "cell_type": "markdown",
   "metadata": {},
   "source": [
    "### tpc1.d) Recebe o nome de dois ficheiros de texto, _f1_ e _f2_, e indica se são iguais (__True__) no seu conteúdo ou se são diferentes (__False__):"
   ]
  },
  {
   "cell_type": "code",
   "execution_count": 63,
   "metadata": {},
   "outputs": [],
   "source": [
    "def figuais(f1, f2):\n",
    "    texto1 = open(f1)\n",
    "    texto2 = open(f2)\n",
    "    lTexto1 = []\n",
    "    lTexto2 = []\n",
    "    iguais = False\n",
    " \n",
    "    for linha in texto1:\n",
    "        lTexto1.append(linha)\n",
    "\n",
    "    for linha in texto2:\n",
    "        lTexto2.append(linha) \n",
    "\n",
    "    if lTexto1 == lTexto2:\n",
    "        iguais = True     \n",
    "\n",
    "    return iguais\n",
    "\n",
    "#print(figuais(\"texto1.txt\", \"texto1.txt\"))\n",
    "#print(figuais(\"texto1.txt\", \"texto2.txt\"))"
   ]
  },
  {
   "cell_type": "markdown",
   "metadata": {},
   "source": [
    "## Questão 2: Gestão de uma Cinemateca\n",
    "\n",
    "Analise as seguintes estruturas de dados que materializam o modelo de uma cinemateca:"
   ]
  },
  {
   "cell_type": "code",
   "execution_count": 64,
   "metadata": {},
   "outputs": [],
   "source": [
    "# Cinemateca = [Filme]\n",
    "# Pub = (Título, Ano, Elenco, Géneros)\n",
    "# Título = String\n",
    "# Ano = Int\n",
    "# Elenco = [Ator]\n",
    "# Ator = String\n",
    "# Géneros = [Género]\n",
    "# Género = String\n",
    "Filme1 = (\"Meet the Parents\", 2000, [\"Ben Stiller\",\"Robert De Niro\",\n",
    "      \"Blythe Danner\",\"Teri Polo\",\"Owen Wilson\"], [\"Comedy\", \"Drama\"])\n",
    "Filme2 = (\"Men of Honor\", 2000, [\"Robert De Niro\",\"Cuba Gooding, Jr.\",\n",
    "      \"Charlize Theron\"], [\"Biography\", \"Drama\", \"Thriller\"])\n",
    "Filme3 = (\"Analyze That\", 2002, [\"Robert De Niro\",\"Billy Crystal\",\n",
    "      \"Lisa Kudrow\"], [\"Comedy\"])\n",
    "CineUM = [Filme1, Filme2, Filme3]"
   ]
  },
  {
   "cell_type": "markdown",
   "metadata": {},
   "source": [
    "### tpc2.a)  Devolve uma lista dos atores participantes nos filmes armazenados, ordenada alfabeticamente e sem repetições:"
   ]
  },
  {
   "cell_type": "code",
   "execution_count": 65,
   "metadata": {},
   "outputs": [
    {
     "name": "stdout",
     "output_type": "stream",
     "text": [
      "['Ben Stiller', 'Billy Crystal', 'Blythe Danner', 'Charlize Theron', 'Cuba Gooding, Jr.', 'Lisa Kudrow', 'Owen Wilson', 'Robert De Niro', 'Teri Polo']\n"
     ]
    }
   ],
   "source": [
    "def atores(cinemateca):\n",
    "    lAtores = []\n",
    "    for _, _, elenco, *_ in cinemateca:\n",
    "        for ator in elenco:\n",
    "            if ator not in lAtores:\n",
    "                lAtores.append(ator)\n",
    "\n",
    "    lAtores.sort()\n",
    "\n",
    "    return lAtores\n",
    "\n",
    "print(atores(CineUM))\n",
    "# Resultado esperado: ['Ben Stiller', 'Billy Crystal', 'Blythe Danner', 'Charlize Theron', 'Cuba Gooding, Jr.', 'Lisa Kudrow', 'Owen Wilson', 'Robert De Niro', 'Teri Polo']"
   ]
  },
  {
   "cell_type": "code",
   "execution_count": 66,
   "metadata": {},
   "outputs": [
    {
     "name": "stdout",
     "output_type": "stream",
     "text": [
      "['Ben Stiller', 'Billy Crystal', 'Blythe Danner', 'Charlize Theron', 'Cuba Gooding, Jr.', 'Lisa Kudrow', 'Owen Wilson', 'Robert De Niro', 'Teri Polo']\n"
     ]
    }
   ],
   "source": [
    "def atores(cinemateca):\n",
    "    res = []\n",
    "    for filme in CineUM:\n",
    "        título,ano,elenco,géneros = filme\n",
    "        for ator in elenco:\n",
    "            if ator not in res:\n",
    "                res.append(ator)\n",
    "    res.sort()\n",
    "    return res\n",
    "\n",
    "print(atores(CineUM))\n"
   ]
  },
  {
   "cell_type": "markdown",
   "metadata": {},
   "source": [
    "### tpc2.b)  Devolve uma lista de todos os títulos dos filmes, em ordem alfabética, e de um determinado género passado como argumento:"
   ]
  },
  {
   "cell_type": "code",
   "execution_count": 67,
   "metadata": {},
   "outputs": [
    {
     "name": "stdout",
     "output_type": "stream",
     "text": [
      "['Analyze That', 'Meet the Parents']\n"
     ]
    }
   ],
   "source": [
    "def listarPorGenero(cinemateca, tipoGenero):\n",
    "    lGenero = []\n",
    "    for titulo, _, _, genero in cinemateca:\n",
    "        if tipoGenero in genero:\n",
    "            lGenero.append(titulo)\n",
    "    lGenero.sort()\n",
    "    return lGenero\n",
    "\n",
    "\n",
    "print(listarPorGenero(CineUM, \"Comedy\"))\n",
    "# Resultado esperado: ['Analyze That', 'Meet the Parents']"
   ]
  },
  {
   "cell_type": "markdown",
   "metadata": {},
   "source": [
    "### tpc2.c)  Devolve o título do filme com o maior elenco:"
   ]
  },
  {
   "cell_type": "code",
   "execution_count": 68,
   "metadata": {},
   "outputs": [
    {
     "name": "stdout",
     "output_type": "stream",
     "text": [
      "Meet the Parents\n"
     ]
    }
   ],
   "source": [
    "def maiorElenco( cinemateca ): # ver len(elenco)\n",
    "    lElenco = 0\n",
    "    for titulo, _, elenco, _ in cinemateca:\n",
    "        listaElenco = len(elenco)\n",
    "        if listaElenco >= lElenco:\n",
    "            lElenco = listaElenco\n",
    "            maiorElencoFilme = titulo\n",
    "    \n",
    "    return maiorElencoFilme\n",
    "\n",
    "print(maiorElenco(CineUM))\n",
    "# Resultado esperado: Meet the Parents"
   ]
  },
  {
   "cell_type": "markdown",
   "metadata": {},
   "source": [
    "### tpc2.d)  Calcula a distribuição de filmes por Género:"
   ]
  },
  {
   "cell_type": "code",
   "execution_count": 69,
   "metadata": {},
   "outputs": [
    {
     "name": "stdout",
     "output_type": "stream",
     "text": [
      "{'Comedy': 2, 'Drama': 2, 'Biography': 1, 'Thriller': 1}\n"
     ]
    }
   ],
   "source": [
    "def filmePorGenero( cinemateca ):\n",
    "    dPorGenero = {}\n",
    "    for _, _, _, genero in cinemateca:\n",
    "        for tipoGenero in genero:\n",
    "            if tipoGenero in dPorGenero.keys():\n",
    "                dPorGenero[tipoGenero] = dPorGenero[tipoGenero] + 1\n",
    "            else:\n",
    "                dPorGenero[tipoGenero] = 1\n",
    "    return dPorGenero\n",
    "\n",
    "print(filmePorGenero(CineUM))"
   ]
  },
  {
   "cell_type": "markdown",
   "metadata": {},
   "source": [
    "### tpc2.e)  Represente num gráfico de barras a distribuição calculada na alínea anterior (pode usar o material que entender das aulas):"
   ]
  },
  {
   "cell_type": "code",
   "execution_count": 70,
   "metadata": {},
   "outputs": [
    {
     "data": {
      "image/png": "[encoded data removed]",
      "text/plain": [
       "<Figure size 640x480 with 1 Axes>"
      ]
     },
     "metadata": {},
     "output_type": "display_data"
    }
   ],
   "source": [
    "import matplotlib.pyplot as plt\n",
    "\n",
    "def plotDistrib(distrib):\n",
    "    plt.bar(distrib.keys(), distrib.values(), color = 'green')\n",
    "    plt.xticks([x for x in range(0, len(distrib.keys()))], distrib.keys(), rotation = 'horizontal')\n",
    "    plt.title(\"Gráfico da Distribuição de Filmes por Género\")\n",
    "    plt.show()\n",
    "    return\n",
    "\n",
    "plotDistrib(filmePorGenero(CineUM))"
   ]
  }
 ],
 "metadata": {
  "kernelspec": {
   "display_name": "Python 3.10.8 64-bit",
   "language": "python",
   "name": "python3"
  },
  "language_info": {
   "codemirror_mode": {
    "name": "ipython",
    "version": 3
   },
   "file_extension": ".py",
   "mimetype": "text/x-python",
   "name": "python",
   "nbconvert_exporter": "python",
   "pygments_lexer": "ipython3",
   "version": "3.10.8"
  },
  "orig_nbformat": 4,
  "vscode": {
   "interpreter": {
    "hash": "aee8b7b246df8f9039afb4144a1f6fd8d2ca17a180786b69acc140d282b71a49"
   }
  }
 },
 "nbformat": 4,
 "nbformat_minor": 2
}
